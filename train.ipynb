{
  "cells": [
    {
      "cell_type": "markdown",
      "metadata": {
        "id": "oaQ_HfHCXqdP"
      },
      "source": [
        "# Тонкая настройка модели GPT-2\n",
        "\n",
        "Этот ноутбук демонстрирует процесс тонкой настройки модели GPT-2 на пользовательском наборе данных в формате JSON Lines. Включает установку зависимостей, загрузку данных, токенизацию, обучение модели и сохранение результатов. После обучения предоставляется интерактивный виджет для генерации текста с использованием тонко настроенной модели."
      ]
    },
    {
      "cell_type": "code",
      "execution_count": null,
      "metadata": {
        "id": "VfyRIhxIXqdV"
      },
      "outputs": [],
      "source": [
        "# Установка необходимых библиотек\n",
        "!pip install \"transformers>=4.41.0\"\n",
        "!pip install datasets torch>=2.0.0 tensorboard ipywidgets"
      ]
    },
    {
      "cell_type": "code",
      "execution_count": null,
      "metadata": {
        "id": "6seMW2nWXqdY"
      },
      "outputs": [],
      "source": [
        "import os\n",
        "from transformers import GPT2Tokenizer, GPT2LMHeadModel, Trainer, TrainingArguments\n",
        "from datasets import load_dataset\n",
        "\n",
        "if not os.path.exists(\"data\"):\n",
        "    os.makedirs(\"data\")\n",
        "with open(\"data/my_corpus.jsonl\", \"w\", encoding=\"utf-8\") as f:\n",
        "    f.write('{\"text\": \"Пример текста для обучения модели.\"}\\n')\n",
        "    f.write('{\"text\": \"Еще одна строка текста для демонстрации.\"}\\n')\n",
        "    f.write('{\"text\": \"Тонкая настройка GPT-2 на пользовательских данных.\"}\\n')"
      ]
    },
    {
      "cell_type": "code",
      "execution_count": null,
      "metadata": {
        "id": "WHVyGWslXqdZ"
      },
      "outputs": [],
      "source": [
        "import json\n",
        "from datasets import Dataset, DatasetDict\n",
        "\n",
        "# Читаем данные из файла вручную\n",
        "data = []\n",
        "with open(\"data/my_corpus.jsonl\", \"r\", encoding=\"utf-8\") as f:\n",
        "    for line in f:\n",
        "        data.append(json.loads(line))\n",
        "\n",
        "# Создаем Dataset из списка словарей\n",
        "raw_dataset = Dataset.from_dict({\"text\": [item[\"text\"] for item in data]})\n",
        "\n",
        "# Создаем DatasetDict с разделом 'train'\n",
        "dataset = DatasetDict({\n",
        "    'train': raw_dataset\n",
        "})\n",
        "\n",
        "print(\"Данные успешно загружены вручную.\")\n",
        "print(dataset)"
      ]
    },
    {
      "cell_type": "code",
      "execution_count": null,
      "metadata": {
        "id": "7yqsZiTdXqdb"
      },
      "outputs": [],
      "source": [
        "# Инициализация токенизатора и модели\n",
        "tokenizer = GPT2Tokenizer.from_pretrained(\"gpt2\")\n",
        "model = GPT2LMHeadModel.from_pretrained(\"gpt2\")\n",
        "\n",
        "# Установка pad_token равным eos_token, чтобы избежать предупреждений\n",
        "tokenizer.pad_token = tokenizer.eos_token\n",
        "model.config.pad_token_id = model.config.eos_token_id"
      ]
    },
    {
      "cell_type": "code",
      "execution_count": null,
      "metadata": {
        "id": "33vAsYD5Xqdc"
      },
      "outputs": [],
      "source": [
        "# Функция токенизации\n",
        "def tokenize(example):\n",
        "    tokenized = tokenizer(\n",
        "        example[\"text\"],\n",
        "        truncation=True,\n",
        "        padding=\"max_length\",\n",
        "        max_length=512\n",
        "    )\n",
        "    tokenized[\"labels\"] = tokenized[\"input_ids\"].copy()\n",
        "    return tokenized\n",
        "\n",
        "# Токенизация набора данных\n",
        "tokenized_dataset = dataset.map(tokenize, batched=True, remove_columns=['text'])"
      ]
    },
    {
      "cell_type": "code",
      "execution_count": null,
      "metadata": {
        "id": "jEixhC3tXqdd"
      },
      "outputs": [],
      "source": [
        "# Определение аргументов для обучения\n",
        "training_args = TrainingArguments(\n",
        "    output_dir=\"./model\",\n",
        "    logging_dir=\"./logs\",\n",
        "    per_device_train_batch_size=2,\n",
        "    num_train_epochs=3,\n",
        "    save_steps=500,\n",
        "    logging_steps=100,\n",
        "    save_total_limit=2,\n",
        "    logging_strategy=\"steps\",\n",
        "    save_strategy=\"steps\",\n",
        "    eval_strategy=\"no\",\n",
        "    load_best_model_at_end=False,\n",
        "    report_to=\"tensorboard\"\n",
        ")"
      ]
    },
    {
      "cell_type": "code",
      "execution_count": null,
      "metadata": {
        "id": "l5bJBENGXqde"
      },
      "outputs": [],
      "source": [
        "# Инициализация Trainer\n",
        "trainer = Trainer(\n",
        "    model=model,\n",
        "    args=training_args,\n",
        "    train_dataset=tokenized_dataset[\"train\"],\n",
        ")"
      ]
    },
    {
      "cell_type": "code",
      "execution_count": null,
      "metadata": {
        "id": "vYAC6XW3Xqdf"
      },
      "outputs": [],
      "source": [
        "# Начало обучения\n",
        "trainer.train()"
      ]
    },
    {
      "cell_type": "code",
      "execution_count": null,
      "metadata": {
        "id": "IqNqDB8xXqdg"
      },
      "outputs": [],
      "source": [
        "# Сохранение финальной модели и токенизатора\n",
        "model.save_pretrained(\"./model/final\")\n",
        "tokenizer.save_pretrained(\"./model/final\")\n",
        "\n",
        "print(\"Обучение завершено. Модель и токенизатор сохранены в ./model/final\")"
      ]
    },
    {
      "cell_type": "markdown",
      "metadata": {},
      "source": [
        "## Интерактивная генерация текста\n",
        "\n",
        "Следующий блок кода создает интерактивный виджет для генерации текста с использованием тонко настроенной модели GPT-2. Вы можете ввести начальный текст (промпт), настроить параметры генерации и получить результат."
      ]
    },
    {
      "cell_type": "code",
      "execution_count": null,
      "metadata": {},
      "outputs": [],
      "source": [
        "# Импорт необходимых библиотек для виджетов\n",
        "import ipywidgets as widgets\n",
        "from ipywidgets import Textarea, IntSlider, FloatSlider, Checkbox, Button, Output\n",
        "from IPython.display import display\n",
        "import torch\n",
        "\n",
        "# Функция для генерации текста\n",
        "def generate_text(prompt, max_length=50, temperature=0.8, top_k=50, do_sample=True):\n",
        "    # Токенизация входного промпта\n",
        "    input_ids = tokenizer.encode(prompt, return_tensors=\"pt\")\n",
        "    \n",
        "    # Генерация текста\n",
        "    output = model.generate(\n",
        "        input_ids,\n",
        "        max_length=max_length,\n",
        "        temperature=temperature,\n",
        "        top_k=top_k,\n",
        "        do_sample=do_sample,\n",
        "        pad_token_id=tokenizer.eos_token_id,\n",
        "        attention_mask=input_ids.ne(tokenizer.pad_token_id)\n",
        "    )\n",
        "    \n",
        "    # Декодирование результата\n",
        "    return tokenizer.decode(output[0], skip_special_tokens=True)\n",
        "\n",
        "# Интерактивный виджет для ввода текста\n",
        "text_input = Textarea(\n",
        "    value=\"Пример текста для генерации\",\n",
        "    placeholder=\"Введите ваш промпт здесь\",\n",
        "    description=\"Промпт:\",\n",
        "    layout={'width': '500px', 'height': '100px'}\n",
        ")\n",
        "\n",
        "max_length_slider = IntSlider(value=50, min=10, max=200, step=10, description=\"Макс. длина:\")\n",
        "temperature_slider = FloatSlider(value=0.8, min=0.1, max=1.5, step=0.1, description=\"Температура:\")\n",
        "top_k_slider = IntSlider(value=50, min=10, max=100, step=10, description=\"Top K:\")\n",
        "do_sample_checkbox = Checkbox(value=True, description=\"Использовать выборку\")\n",
        "\n",
        "output_area = Output()\n",
        "\n",
        "def on_generate_button_clicked(b):\n",
        "    with output_area:\n",
        "        output_area.clear_output()\n",
        "        result = generate_text(\n",
        "            prompt=text_input.value,\n",
        "            max_length=max_length_slider.value,\n",
        "            temperature=temperature_slider.value,\n",
        "            top_k=top_k_slider.value,\n",
        "            do_sample=do_sample_checkbox.value\n",
        "        )\n",
        "        print(\"Сгенерированный текст:\")\n",
        "        print(result)\n",
        "\n",
        "generate_button = Button(description=\"Сгенерировать текст\")\n",
        "generate_button.on_click(on_generate_button_clicked)\n",
        "\n",
        "# Отображение виджетов\n",
        "display(text_input)\n",
        "display(max_length_slider)\n",
        "display(temperature_slider)\n",
        "display(top_k_slider)\n",
        "display(do_sample_checkbox)\n",
        "display(generate_button)\n",
        "display(output_area)"
      ]
    }
  ],
  "metadata": {
    "kernelspec": {
      "display_name": "Python 3",
      "language": "python",
      "name": "python3"
    },
    "language_info": {
      "codemirror_mode": {
        "name": "ipython",
        "version": 3
      },
      "file_extension": ".py",
      "mimetype": "text/x-python",
      "name": "python",
      "nbconvert_exporter": "python",
      "pygments_lexer": "ipython3",
      "version": "3.8.10"
    }
  },
  "nbformat": 4,
  "nbformat_minor": 0
}
